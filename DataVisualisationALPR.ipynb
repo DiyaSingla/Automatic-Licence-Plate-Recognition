{
  "nbformat": 4,
  "nbformat_minor": 0,
  "metadata": {
    "colab": {
      "name": "DataVisualisationALPR.ipynb",
      "provenance": [],
      "collapsed_sections": []
    },
    "kernelspec": {
      "name": "python3",
      "display_name": "Python 3"
    },
    "language_info": {
      "name": "python"
    }
  },
  "cells": [
    {
      "cell_type": "code",
      "source": [
        "from google.colab import drive\n",
        "drive.mount('/content/drive')"
      ],
      "metadata": {
        "colab": {
          "base_uri": "https://localhost:8080/"
        },
        "id": "aX1neCELLlbm",
        "outputId": "40d81adb-7315-4eae-9687-1b6ec46334f8"
      },
      "execution_count": 1,
      "outputs": [
        {
          "output_type": "stream",
          "name": "stdout",
          "text": [
            "Mounted at /content/drive\n"
          ]
        }
      ]
    },
    {
      "cell_type": "code",
      "source": [
        "import csv\n",
        "import os\n",
        "from PIL import Image\n",
        "\n",
        "root=\"/content/drive/MyDrive/tested\"\n",
        "f=open(\"dim.csv\",'w')\n",
        "writer=csv.writer(f)\n",
        "writer.writerow(['height','width'])\n",
        "for file in os.listdir(root):\n",
        "  try:\n",
        "    img=Image.open(root+'/'+file)\n",
        "  except:\n",
        "    continue\n",
        "  # get width and height\n",
        "  width = img.width\n",
        "  height = img.height\n",
        "  writer.writerow([height,width])"
      ],
      "metadata": {
        "id": "StgsuTngNmJ0"
      },
      "execution_count": 4,
      "outputs": []
    },
    {
      "cell_type": "code",
      "source": [
        "import pandas as pd\n",
        "import matplotlib.pyplot as plt\n",
        "df=pd.read_csv(\"dim.csv\")\n",
        "x=df['height']\n",
        "y=df['width']\n",
        "plt.scatter(x,y, c=\"red\")\n",
        "plt.show"
      ],
      "metadata": {
        "colab": {
          "base_uri": "https://localhost:8080/",
          "height": 283
        },
        "id": "q8UDO9owTgsp",
        "outputId": "a3c12c7b-bcdc-4bd1-8628-7e57d7709920"
      },
      "execution_count": 5,
      "outputs": [
        {
          "output_type": "execute_result",
          "data": {
            "text/plain": [
              "<function matplotlib.pyplot.show>"
            ]
          },
          "metadata": {},
          "execution_count": 5
        },
        {
          "output_type": "display_data",
          "data": {
            "text/plain": [
              "<Figure size 432x288 with 1 Axes>"
            ],
            "image/png": "[encoded data removed]"
          },
          "metadata": {
            "needs_background": "light"
          }
        }
      ]
    }
  ]
}