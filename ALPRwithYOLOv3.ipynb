{
  "nbformat": 4,
  "nbformat_minor": 0,
  "metadata": {
    "colab": {
      "provenance": []
    },
    "kernelspec": {
      "name": "python3",
      "display_name": "Python 3"
    },
    "language_info": {
      "name": "python"
    },
    "accelerator": "GPU",
    "gpuClass": "standard"
  },
  "cells": [
    {
      "cell_type": "code",
      "execution_count": null,
      "metadata": {
        "id": "EW6Nx25meKlH"
      },
      "outputs": [],
      "source": [
        "!git clone https://github.com/misbah4064/yolo-license-plate-detection.git\n",
        "%cd yolo-license-plate-detection"
      ]
    },
    {
      "cell_type": "code",
      "source": [
        "!gdown https://drive.google.com/uc?id=1vXjIoRWY0aIpYfhj3TnPUGdmJoHnWaOc"
      ],
      "metadata": {
        "id": "S0-RkmE5eWka"
      },
      "execution_count": null,
      "outputs": []
    },
    {
      "cell_type": "code",
      "source": [
        "!pip install easyocr"
      ],
      "metadata": {
        "id": "6l-xfoM7J05G"
      },
      "execution_count": null,
      "outputs": []
    },
    {
      "cell_type": "code",
      "source": [
        "import cv2\n",
        "import numpy as np\n",
        "import easyocr\n",
        "\n",
        "def objectDetector(img):\n",
        "    yolo = cv2.dnn.readNet(\"model.weights\", \"darknet-yolov3.cfg\")\n",
        "    classes = []\n",
        "\n",
        "    with open(\"classes.names\", \"r\") as file:\n",
        "        classes = [line.strip() for line in file.readlines()]\n",
        "    layer_names = yolo.getLayerNames()\n",
        "    output_layers = [layer_names[i - 1] for i in yolo.getUnconnectedOutLayers()]\n",
        "\n",
        "    colorRed = (0,0,255)\n",
        "    colorGreen = (0,255,0)\n",
        "    colorWhite = (255,255,255)\n",
        "\n",
        "    height, width, channels = img.shape\n",
        "\n",
        "    # Detecting objects\n",
        "    blob = cv2.dnn.blobFromImage(img, 0.00392, (416, 416), (0, 0, 0), True, crop=False)\n",
        "\n",
        "    yolo.setInput(blob)\n",
        "    outputs = yolo.forward(output_layers)\n",
        "\n",
        "    class_ids = []\n",
        "    confidences = []\n",
        "    boxes = []\n",
        "    for output in outputs:\n",
        "        for detection in output:\n",
        "            scores = detection[5:]\n",
        "            class_id = np.argmax(scores)\n",
        "            confidence = scores[class_id]\n",
        "            if confidence > 0.5:\n",
        "                center_x = int(detection[0] * width)\n",
        "                center_y = int(detection[1] * height)\n",
        "                w = int(detection[2] * width)\n",
        "                h = int(detection[3] * height)\n",
        "\n",
        "                x = int(center_x - w / 2)\n",
        "                y = int(center_y - h / 2)\n",
        "\n",
        "                boxes.append([x, y, w, h])\n",
        "                confidences.append(float(confidence))\n",
        "                class_ids.append(class_id)\n",
        "\n",
        "    indexes = cv2.dnn.NMSBoxes(boxes, confidences, 0.5, 0.4)\n",
        "    for i in range(len(boxes)):\n",
        "        if i in indexes:\n",
        "            x, y, w, h = boxes[i]\n",
        "            label = str(classes[class_ids[i]])\n",
        "            cv2.rectangle(img, (x, y), (x + w, y + h), colorGreen, 3)\n",
        "            cv2.putText(img, label, (x, y - 30), cv2.FONT_HERSHEY_PLAIN, 1, colorWhite, 2)\n",
        "\n",
        "            new_img=img[y:y+h,x:x+w]\n",
        "            cv2.imwrite('./lc'+'.png',new_img)\n",
        "            Cropped_loc = './lc.png'\n",
        "            plate=cv2.imread(Cropped_loc)\n",
        "    return img, plate"
      ],
      "metadata": {
        "id": "fmFwm9GaeaVs"
      },
      "execution_count": null,
      "outputs": []
    },
    {
      "cell_type": "code",
      "source": [
        "from google.colab.patches import cv2_imshow"
      ],
      "metadata": {
        "id": "6goBbjgofopb"
      },
      "execution_count": null,
      "outputs": []
    },
    {
      "cell_type": "code",
      "source": [
        "import cv2\n",
        "\n",
        "input_image = cv2.imread(\"car0.JPG\")\n",
        "image, license_plate = objectDetector(input_image)\n",
        "cv2_imshow(image)\n",
        "cv2_imshow(license_plate)"
      ],
      "metadata": {
        "id": "_H3pDFR4eeN7"
      },
      "execution_count": null,
      "outputs": []
    },
    {
      "cell_type": "code",
      "source": [
        "# using ocr to read text\n",
        "reader = easyocr.Reader(['en'])\n",
        "result = reader.readtext(license_plate)\n",
        "print(result[0][1])\n"
      ],
      "metadata": {
        "id": "3hXPKhhPFaju"
      },
      "execution_count": null,
      "outputs": []
    },
    {
      "cell_type": "code",
      "source": [
        "from google.colab import drive\n",
        "drive.mount"
      ],
      "metadata": {
        "id": "7FT2gAOTFUV-"
      },
      "execution_count": null,
      "outputs": []
    },
    {
      "cell_type": "code",
      "source": [
        "import csv\n",
        "import os"
      ],
      "metadata": {
        "id": "R74icBl2KZ1m"
      },
      "execution_count": null,
      "outputs": []
    },
    {
      "cell_type": "code",
      "source": [
        "f=open(\"/content/Prediction.csv\",'a')\n",
        "writer=csv.writer(f)\n",
        "writer.writerow([\"Image\",\"Predicted license plate number\"])\n",
        "folder=\"/content/drive/MyDrive/test/tested\"\n",
        "for file in os.listdir(folder):\n",
        "  path=folder+'/'+file\n",
        "  try:\n",
        "    input_image = cv2.imread(path)\n",
        "    image, license_plate = objectDetector(input_image)\n",
        "  except:\n",
        "    continue\n",
        "  cv2_imshow(image)\n",
        "  cv2_imshow(license_plate)\n",
        "  # using ocr to read text\n",
        "  reader = easyocr.Reader(['en'])\n",
        "  result = reader.readtext(license_plate)\n",
        "  try:\n",
        "    plate=result[0][1]\n",
        "    print(plate)\n",
        "    writer.writerow([file, plate])\n",
        "  except IndexError:\n",
        "    print(result)\n",
        "    writer.writerow([file, 'null'])\n",
        "f.close()"
      ],
      "metadata": {
        "id": "CDurF_RyehXp"
      },
      "execution_count": null,
      "outputs": []
    },
    {
      "cell_type": "code",
      "source": [
        "import pandas as pd\n",
        "df=pd.read_csv('/content/Prediction.csv')\n",
        "df['Predicted license plate number'].isna().value_counts()"
      ],
      "metadata": {
        "id": "ebp9wQ_qRdkN"
      },
      "execution_count": null,
      "outputs": []
    }
  ]
}