{
  "cells": [
    {
      "cell_type": "code",
      "execution_count": null,
      "metadata": {
        "id": "Ht-nOHBpcMGe"
      },
      "outputs": [],
      "source": [
        "from google.colab import drive\n",
        "drive.mount"
      ]
    },
    {
      "cell_type": "code",
      "execution_count": null,
      "metadata": {
        "id": "EseNpVH1J0ZE"
      },
      "outputs": [],
      "source": [
        "!pip install easyocr"
      ]
    },
    {
      "cell_type": "code",
      "execution_count": null,
      "metadata": {
        "id": "9ItLliMzJt8I"
      },
      "outputs": [],
      "source": [
        "import os\n",
        "import csv\n",
        "import cv2\n",
        "import imutils\n",
        "import easyocr"
      ]
    },
    {
      "cell_type": "code",
      "execution_count": null,
      "metadata": {
        "id": "MdyOdTdnMHv9"
      },
      "outputs": [],
      "source": [
        "from google.colab.patches import cv2_imshow"
      ]
    },
    {
      "cell_type": "code",
      "execution_count": null,
      "metadata": {
        "id": "dj-asd7aLYWW"
      },
      "outputs": [],
      "source": [
        "#SHOWING THE STEPS FOR IMAGE PROCESSING\n",
        "\n",
        "#taking in our image input and resizing its width to 300 pixels\n",
        "image = cv2.imread(\"/content/GA7.jpg\")         \n",
        "image = imutils.resize(image, width=300 )\n",
        "print(\"original image\")\n",
        "cv2_imshow(image)\n",
        "#cv2.waitKey(0)\n",
        "\n",
        "#converting the input to greyscale\n",
        "gray_image = cv2.cvtColor(image, cv2.COLOR_BGR2GRAY)\n",
        "print(\"greyed image\")\n",
        "cv2_imshow( gray_image)\n",
        "# cv2.waitKey(0)\n",
        "\n",
        "#Reducing the noise in the greyscale image\n",
        "gray_image = cv2.bilateralFilter(gray_image, 11, 17, 17) \n",
        "print(\"smoothened image\")\n",
        "cv2_imshow(gray_image)\n",
        "# cv2.waitKey(0)\n",
        "\n",
        "#Detecting the edges of the smoothened image\n",
        "edged = cv2.Canny(gray_image, 30, 200) \n",
        "print(\"edged image\")\n",
        "cv2_imshow(edged)\n",
        "# cv2.waitKey(0)\n",
        "\n",
        "#Finding the contours from the edged image\n",
        "cnts,new = cv2.findContours(edged.copy(), cv2.RETR_LIST, cv2.CHAIN_APPROX_SIMPLE)\n",
        "image1=image.copy()\n",
        "cv2.drawContours(image1,cnts,-1,(0,255,0),3)\n",
        "print(\"contours\")\n",
        "cv2_imshow(image1)\n",
        "# cv2.waitKey(0)\n",
        "\n",
        "#Sorting the identified contours\n",
        "cnts = sorted(cnts, key = cv2.contourArea, reverse = True) [:30]\n",
        "screenCnt = None\n",
        "image2 = image.copy()\n",
        "cv2.drawContours(image2,cnts,-1,(0,255,0),3)\n",
        "print(\"Top 30 contours\")\n",
        "cv2_imshow(image2)\n",
        "# cv2.waitKey(0)\n",
        "\n",
        "#Finding the contour with four sides\n",
        "i=7\n",
        "for c in cnts:\n",
        "        perimeter = cv2.arcLength(c, True)\n",
        "        approx = cv2.approxPolyDP(c, 0.018 * perimeter, True)\n",
        "        if len(approx) == 4: \n",
        "                screenCnt = approx\n",
        "\n",
        "#Cropping the rectangular part identified as license plate\n",
        "                x,y,w,h = cv2.boundingRect(c) \n",
        "                new_img=image[y:y+h,x:x+w]\n",
        "                cv2.imwrite('./'+str(i)+'.png',new_img)\n",
        "                i+=1\n",
        "                break\n",
        "\n",
        "#Drawing the selected contour on the original image\n",
        "cv2.drawContours(image, [screenCnt], -1, (0, 255, 0), 3)\n",
        "print(\"image with detected license plate\")\n",
        "cv2_imshow(image)\n",
        "#cv2.waitKey(0)\n",
        "Cropped_loc=cv2.imread('/content/7.png')\n",
        "cv2_imshow(Cropped_loc)\n",
        "# using ocr to read text\n",
        "reader = easyocr.Reader(['en'])\n",
        "result = reader.readtext(Cropped_loc)\n",
        "print(\"Detected license plate is\")\n",
        "print(result[0][1])\n"
      ]
    },
    {
      "cell_type": "code",
      "execution_count": null,
      "metadata": {
        "id": "5ya0puChKVJV"
      },
      "outputs": [],
      "source": [
        "# IMPLEMENTING CODE ON DATASET\n",
        "root=\"/content/drive/MyDrive/test\"\n",
        "f=open(\"Pred.csv\",'a')\n",
        "writer=csv.writer(f)\n",
        "writer.writerow([\"Image\",\"Predicted License plate number\"])\n",
        "for folder in os.listdir(root):\n",
        "  if(folder !='LICENSE.txt'):\n",
        "    for file in os.listdir(root+'/'+folder):\n",
        "      path=root+'/'+folder+'/'+file\n",
        "\n",
        "      #taking in our image input and resizing its width to 300 pixels\n",
        "      try:\n",
        "        image = cv2.imread(path)           \n",
        "        image = imutils.resize(image, width=300 )\n",
        "        cv2_imshow(image)\n",
        "        #cv2.waitKey(0)\n",
        "      except:\n",
        "        continue\n",
        "\n",
        "      #converting the input to greyscale\n",
        "      gray_image = cv2.cvtColor(image, cv2.COLOR_BGR2GRAY)\n",
        "      # cv2.imshow(\"greyed image\", gray_image)\n",
        "      # cv2.waitKey(0)\n",
        "\n",
        "      #Reducing the noise in the greyscale image\n",
        "      gray_image = cv2.bilateralFilter(gray_image, 11, 17, 17) \n",
        "      # cv2.imshow(\"smoothened image\", gray_image)\n",
        "      # cv2.waitKey(0)\n",
        "\n",
        "      #Detecting the edges of the smoothened image\n",
        "      edged = cv2.Canny(gray_image, 30, 200) \n",
        "      # cv2.imshow(\"edged image\", edged)\n",
        "      # cv2.waitKey(0)\n",
        "\n",
        "      #Finding the contours from the edged image\n",
        "      cnts,new = cv2.findContours(edged.copy(), cv2.RETR_LIST, cv2.CHAIN_APPROX_SIMPLE)\n",
        "      image1=image.copy()\n",
        "      cv2.drawContours(image1,cnts,-1,(0,255,0),3)\n",
        "      # cv2.imshow(\"contours\",image1)\n",
        "      # cv2.waitKey(0)\n",
        "\n",
        "      #Sorting the identified contours\n",
        "      cnts = sorted(cnts, key = cv2.contourArea, reverse = True) [:30]\n",
        "      screenCnt = None\n",
        "      image2 = image.copy()\n",
        "      cv2.drawContours(image2,cnts,-1,(0,255,0),3)\n",
        "      # cv2.imshow(\"Top 30 contours\",image2)\n",
        "      # cv2.waitKey(0)\n",
        "\n",
        "      #Finding the contour with four sides\n",
        "      i=7\n",
        "      for c in cnts:\n",
        "        perimeter = cv2.arcLength(c, True)\n",
        "        approx = cv2.approxPolyDP(c, 0.018 * perimeter, True)\n",
        "        if len(approx) == 4: \n",
        "                screenCnt = approx\n",
        "\n",
        "                #Cropping the rectangular part identified as license plate\n",
        "                x,y,w,h = cv2.boundingRect(c) \n",
        "                new_img=image[y:y+h,x:x+w]\n",
        "                cv2.imwrite('./'+str(i)+'.png',new_img)\n",
        "                i+=1\n",
        "                break\n",
        "\n",
        "      #Drawing the selected contour on the original image\n",
        "      cv2.drawContours(image, [screenCnt], -1, (0, 255, 0), 3)\n",
        "      cv2_imshow(image)\n",
        "      #cv2.waitKey(0)\n",
        "\n",
        "      #cropped license plate\n",
        "      Cropped_loc = './7.png'\n",
        "      cv2_imshow(cv2.imread(Cropped_loc))\n",
        "      #cv2.waitKey(0)\n",
        "\n",
        "      # using ocr to read text\n",
        "      reader = easyocr.Reader(['en'])\n",
        "      result = reader.readtext(Cropped_loc)\n",
        "      try:\n",
        "        plate=result[0][1]\n",
        "        print(plate)\n",
        "        writer.writerow([file,plate])\n",
        "      except IndexError:\n",
        "        print(result)\n",
        "        writer.writerow([file,\"null\"])\n",
        "\n",
        "    f.close()"
      ]
    },
    {
      "cell_type": "code",
      "execution_count": null,
      "metadata": {
        "id": "8OjHAdztgyeX"
      },
      "outputs": [],
      "source": [
        "import pandas as pd\n",
        "df=pd.read_csv(\"/content/Pred.csv\")\n",
        "df['Predicted License plate number'].isna().value_counts()"
      ]
    }
  ],
  "metadata": {
    "accelerator": "GPU",
    "colab": {
      "provenance": []
    },
    "gpuClass": "standard",
    "kernelspec": {
      "display_name": "Python 3",
      "name": "python3"
    },
    "language_info": {
      "name": "python"
    }
  },
  "nbformat": 4,
  "nbformat_minor": 0
}